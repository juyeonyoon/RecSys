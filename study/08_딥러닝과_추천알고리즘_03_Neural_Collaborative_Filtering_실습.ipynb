{
  "nbformat": 4,
  "nbformat_minor": 0,
  "metadata": {
    "kernelspec": {
      "display_name": "Python 3",
      "language": "python",
      "name": "python3"
    },
    "language_info": {
      "codemirror_mode": {
        "name": "ipython",
        "version": 3
      },
      "file_extension": ".py",
      "mimetype": "text/x-python",
      "name": "python",
      "nbconvert_exporter": "python",
      "pygments_lexer": "ipython3",
      "version": "3.7.7"
    },
    "colab": {
      "name": "08_딥러닝과 추천알고리즘-03-Neural Collaborative Filtering 실습",
      "provenance": [],
      "collapsed_sections": [],
      "include_colab_link": true
    },
    "accelerator": "GPU",
    "gpuClass": "standard"
  },
  "cells": [
    {
      "cell_type": "markdown",
      "metadata": {
        "id": "view-in-github",
        "colab_type": "text"
      },
      "source": [
        "<a href=\"https://colab.research.google.com/github/juyeonyoon/RecSys/blob/main/08_%E1%84%83%E1%85%B5%E1%86%B8%E1%84%85%E1%85%A5%E1%84%82%E1%85%B5%E1%86%BC%E1%84%80%E1%85%AA_%E1%84%8E%E1%85%AE%E1%84%8E%E1%85%A5%E1%86%AB%E1%84%8B%E1%85%A1%E1%86%AF%E1%84%80%E1%85%A9%E1%84%85%E1%85%B5%E1%84%8C%E1%85%B3%E1%86%B7_03_Neural_Collaborative_Filtering_%E1%84%89%E1%85%B5%E1%86%AF%E1%84%89%E1%85%B3%E1%86%B8.ipynb\" target=\"_parent\"><img src=\"https://colab.research.google.com/assets/colab-badge.svg\" alt=\"Open In Colab\"/></a>"
      ]
    },
    {
      "cell_type": "markdown",
      "metadata": {
        "id": "IF2lN7b3KxIM"
      },
      "source": [
        "# Neural Collaborative Filtering\n",
        "1. [논문](https://arxiv.org/pdf/1708.05031.pdf)\n",
        "2. Keras로 작성된 [저자 코드](https://github.com/hexiangnan/neural_collaborative_filtering)\n",
        "3. 논문은 0과 1로 user-item interaction으로 matrix을 나타내고 학습했으나, 이번 실습에서는 rating을 직접 예측하고, loss를 구해보는 것을 진행한다"
      ]
    },
    {
      "cell_type": "markdown",
      "metadata": {
        "id": "Vwo_-gxkMHvu"
      },
      "source": [
        "## Configuration"
      ]
    },
    {
      "cell_type": "code",
      "metadata": {
        "id": "9BUxy0TqJpIZ"
      },
      "source": [
        "import os\n",
        "import pandas as pd\n",
        "import numpy as np\n",
        "from matplotlib import pyplot as plt\n",
        "from sklearn.model_selection import train_test_split\n",
        "\n",
        "import math\n",
        "from torch import nn, optim\n",
        "import torch\n",
        "import torch.nn.functional as F\n",
        "from torch.autograd import Variable\n",
        "\n",
        "from tqdm import tqdm\n",
        "import warnings\n",
        "warnings.filterwarnings(\"ignore\")"
      ],
      "execution_count": null,
      "outputs": []
    },
    {
      "cell_type": "markdown",
      "metadata": {
        "id": "Sd5EcJo-MNYF"
      },
      "source": [
        "## Load Dataset\n",
        "- KMRD 데이터셋 활용\n",
        "- google colab의 경우 data path 다시 확인하기"
      ]
    },
    {
      "cell_type": "code",
      "metadata": {
        "id": "8Gnd5SY6MaQn",
        "colab": {
          "base_uri": "https://localhost:8080/"
        },
        "outputId": "8edc5892-845f-4f95-bbe9-35436e9c850b"
      },
      "source": [
        "from google.colab import drive\n",
        "drive.mount('/content/drive')"
      ],
      "execution_count": null,
      "outputs": [
        {
          "output_type": "stream",
          "name": "stdout",
          "text": [
            "Mounted at /content/drive\n"
          ]
        }
      ]
    },
    {
      "cell_type": "code",
      "metadata": {
        "id": "_ddZzgIiMMZK"
      },
      "source": [
        "data_path = '/content/drive/MyDrive/fastcampus/fastcampus-RecSys-master/data/kmrd/kmr_dataset/datafile/kmrd-small'"
      ],
      "execution_count": null,
      "outputs": []
    },
    {
      "cell_type": "code",
      "metadata": {
        "id": "5MzgHnp4JpIg"
      },
      "source": [
        "def read_data(data_path):\n",
        "  df = pd.read_csv(os.path.join(data_path,'rates.csv'))\n",
        "  train_df, val_df = train_test_split(df, test_size=0.2, random_state=1234, shuffle=True)\n",
        "  return train_df, val_df"
      ],
      "execution_count": null,
      "outputs": []
    },
    {
      "cell_type": "code",
      "metadata": {
        "id": "fqKIrB08qGGd",
        "colab": {
          "base_uri": "https://localhost:8080/"
        },
        "outputId": "1004d49a-ba64-4a6d-8055-aa85ee247d8c"
      },
      "source": [
        "!nvidia-smi"
      ],
      "execution_count": null,
      "outputs": [
        {
          "output_type": "stream",
          "name": "stdout",
          "text": [
            "Fri Jul  1 14:01:18 2022       \n",
            "+-----------------------------------------------------------------------------+\n",
            "| NVIDIA-SMI 460.32.03    Driver Version: 460.32.03    CUDA Version: 11.2     |\n",
            "|-------------------------------+----------------------+----------------------+\n",
            "| GPU  Name        Persistence-M| Bus-Id        Disp.A | Volatile Uncorr. ECC |\n",
            "| Fan  Temp  Perf  Pwr:Usage/Cap|         Memory-Usage | GPU-Util  Compute M. |\n",
            "|                               |                      |               MIG M. |\n",
            "|===============================+======================+======================|\n",
            "|   0  Tesla T4            Off  | 00000000:00:04.0 Off |                    0 |\n",
            "| N/A   35C    P8     9W /  70W |      0MiB / 15109MiB |      0%      Default |\n",
            "|                               |                      |                  N/A |\n",
            "+-------------------------------+----------------------+----------------------+\n",
            "                                                                               \n",
            "+-----------------------------------------------------------------------------+\n",
            "| Processes:                                                                  |\n",
            "|  GPU   GI   CI        PID   Type   Process name                  GPU Memory |\n",
            "|        ID   ID                                                   Usage      |\n",
            "|=============================================================================|\n",
            "|  No running processes found                                                 |\n",
            "+-----------------------------------------------------------------------------+\n"
          ]
        }
      ]
    },
    {
      "cell_type": "code",
      "metadata": {
        "id": "VZ8oc1G-NYsO"
      },
      "source": [
        "# 학습할 영화 데이터 분석\n",
        "train_df, val_df = read_data(data_path)"
      ],
      "execution_count": null,
      "outputs": []
    },
    {
      "cell_type": "code",
      "metadata": {
        "id": "DsohSsCHNeXx",
        "colab": {
          "base_uri": "https://localhost:8080/"
        },
        "outputId": "3f20c5e3-5cc2-4e8f-a038-54a4de4e4598"
      },
      "source": [
        "print(train_df.shape)\n",
        "print(train_df.head())"
      ],
      "execution_count": null,
      "outputs": [
        {
          "output_type": "stream",
          "name": "stdout",
          "text": [
            "(112568, 4)\n",
            "         user  movie  rate        time\n",
            "137023  48423  10764    10  1212241560\n",
            "92868   17307  10170    10  1122185220\n",
            "94390   18180  10048    10  1573403460\n",
            "22289    1498  10001     9  1432684500\n",
            "80155   12541  10022    10  1370458140\n"
          ]
        }
      ]
    },
    {
      "cell_type": "code",
      "metadata": {
        "id": "e8qwa_0RNf_z",
        "colab": {
          "base_uri": "https://localhost:8080/"
        },
        "outputId": "8f63f3ae-db1e-4623-fbd2-79e9027f45db"
      },
      "source": [
        "val_df.shape"
      ],
      "execution_count": null,
      "outputs": [
        {
          "output_type": "execute_result",
          "data": {
            "text/plain": [
              "(28142, 4)"
            ]
          },
          "metadata": {},
          "execution_count": 8
        }
      ]
    },
    {
      "cell_type": "code",
      "metadata": {
        "id": "ut8hvxxRJpIg",
        "colab": {
          "base_uri": "https://localhost:8080/",
          "height": 446
        },
        "outputId": "d1e4a341-1fb1-4b18-a080-01c3e0263d9e"
      },
      "source": [
        "fig, ax = plt.subplots(1, 2, sharex='col', sharey='row', figsize=(12,7))\n",
        "ax = ax.ravel()\n",
        "\n",
        "train_df['rate'].hist(ax=ax[0])\n",
        "val_df['rate'].hist(ax=ax[1])"
      ],
      "execution_count": null,
      "outputs": [
        {
          "output_type": "execute_result",
          "data": {
            "text/plain": [
              "<matplotlib.axes._subplots.AxesSubplot at 0x7f342d2945d0>"
            ]
          },
          "metadata": {},
          "execution_count": 9
        },
        {
          "output_type": "display_data",
          "data": {
            "text/plain": [
              "<Figure size 864x504 with 2 Axes>"
            ],
            "image/png": "[encoded data removed]"
          },
          "metadata": {
            "needs_background": "light"
          }
        }
      ]
    },
    {
      "cell_type": "code",
      "metadata": {
        "id": "ochDMXb5JpIi",
        "colab": {
          "base_uri": "https://localhost:8080/"
        },
        "outputId": "be8d70a7-9b7b-4e4d-ce61-7dafaff82a7e"
      },
      "source": [
        "train_df['rate'].describe()"
      ],
      "execution_count": null,
      "outputs": [
        {
          "output_type": "execute_result",
          "data": {
            "text/plain": [
              "count    112568.000000\n",
              "mean          8.948369\n",
              "std           2.114602\n",
              "min           1.000000\n",
              "25%           9.000000\n",
              "50%          10.000000\n",
              "75%          10.000000\n",
              "max          10.000000\n",
              "Name: rate, dtype: float64"
            ]
          },
          "metadata": {},
          "execution_count": 10
        }
      ]
    },
    {
      "cell_type": "markdown",
      "metadata": {
        "id": "a7Py8f2EXJzv"
      },
      "source": [
        "## Load movie dataframe"
      ]
    },
    {
      "cell_type": "code",
      "metadata": {
        "id": "IkPeoquPXNvp"
      },
      "source": [
        "# Load all related dataframe\n",
        "movies_df = pd.read_csv(os.path.join(data_path, 'movies.txt'), sep='\\t', encoding='utf-8')\n",
        "movies_df = movies_df.set_index('movie')\n",
        "\n",
        "castings_df = pd.read_csv(os.path.join(data_path, 'castings.csv'), encoding='utf-8')\n",
        "countries_df = pd.read_csv(os.path.join(data_path, 'countries.csv'), encoding='utf-8')\n",
        "genres_df = pd.read_csv(os.path.join(data_path, 'genres.csv'), encoding='utf-8')\n",
        "\n",
        "# Get genre information\n",
        "genres = [(list(set(x['movie'].values))[0], '/'.join(x['genre'].values)) for index, x in genres_df.groupby('movie')]\n",
        "combined_genres_df = pd.DataFrame(data=genres, columns=['movie', 'genres'])\n",
        "combined_genres_df = combined_genres_df.set_index('movie')\n",
        "\n",
        "# Get castings information\n",
        "castings = [(list(set(x['movie'].values))[0], x['people'].values) for index, x in castings_df.groupby('movie')]\n",
        "combined_castings_df = pd.DataFrame(data=castings, columns=['movie','people'])\n",
        "combined_castings_df = combined_castings_df.set_index('movie')\n",
        "\n",
        "# Get countries for movie information\n",
        "countries = [(list(set(x['movie'].values))[0], ','.join(x['country'].values)) for index, x in countries_df.groupby('movie')]\n",
        "combined_countries_df = pd.DataFrame(data=countries, columns=['movie', 'country'])\n",
        "combined_countries_df = combined_countries_df.set_index('movie')\n",
        "\n",
        "movies_df = pd.concat([movies_df, combined_genres_df, combined_castings_df, combined_countries_df], axis=1)\n"
      ],
      "execution_count": null,
      "outputs": []
    },
    {
      "cell_type": "code",
      "metadata": {
        "id": "Z6yE06GxYV3W",
        "colab": {
          "base_uri": "https://localhost:8080/",
          "height": 238
        },
        "outputId": "1dfa83fa-f192-4162-f967-7654dcbb5d7a"
      },
      "source": [
        "movies_df.head()"
      ],
      "execution_count": null,
      "outputs": [
        {
          "output_type": "execute_result",
          "data": {
            "text/plain": [
              "                      title                           title_eng    year  \\\n",
              "movie                                                                     \n",
              "10001                시네마 천국              Cinema Paradiso , 1988  2013.0   \n",
              "10002              빽 투 더 퓨쳐           Back To The Future , 1985  2015.0   \n",
              "10003            빽 투 더 퓨쳐 2    Back To The Future Part 2 , 1989  2015.0   \n",
              "10004            빽 투 더 퓨쳐 3  Back To The Future Part III , 1990  1990.0   \n",
              "10005  스타워즈 에피소드 4 - 새로운 희망                    Star Wars , 1977  1997.0   \n",
              "\n",
              "         grade         genres  \\\n",
              "movie                           \n",
              "10001   전체 관람가     드라마/멜로/로맨스   \n",
              "10002  12세 관람가         SF/코미디   \n",
              "10003  12세 관람가         SF/코미디   \n",
              "10004   전체 관람가  서부/SF/판타지/코미디   \n",
              "10005       PG   판타지/모험/SF/액션   \n",
              "\n",
              "                                                  people   country  \n",
              "movie                                                               \n",
              "10001  [4374, 178, 3241, 47952, 47953, 19538, 18991, ...  이탈리아,프랑스  \n",
              "10002    [1076, 4603, 917, 8637, 5104, 9986, 7470, 9987]        미국  \n",
              "10003  [1076, 4603, 917, 5104, 391, 5106, 5105, 5107,...        미국  \n",
              "10004  [1076, 4603, 1031, 5104, 10001, 5984, 10002, 1...        미국  \n",
              "10005                         [1007, 535, 215, 1236, 35]        미국  "
            ],
            "text/html": [
              "\n",
              "  <div id=\"df-cb5fdc5a-d9c5-45d5-9302-0dc6a7f47143\">\n",
              "    <div class=\"colab-df-container\">\n",
              "      <div>\n",
              "<style scoped>\n",
              "    .dataframe tbody tr th:only-of-type {\n",
              "        vertical-align: middle;\n",
              "    }\n",
              "\n",
              "    .dataframe tbody tr th {\n",
              "        vertical-align: top;\n",
              "    }\n",
              "\n",
              "    .dataframe thead th {\n",
              "        text-align: right;\n",
              "    }\n",
              "</style>\n",
              "<table border=\"1\" class=\"dataframe\">\n",
              "  <thead>\n",
              "    <tr style=\"text-align: right;\">\n",
              "      <th></th>\n",
              "      <th>title</th>\n",
              "      <th>title_eng</th>\n",
              "      <th>year</th>\n",
              "      <th>grade</th>\n",
              "      <th>genres</th>\n",
              "      <th>people</th>\n",
              "      <th>country</th>\n",
              "    </tr>\n",
              "    <tr>\n",
              "      <th>movie</th>\n",
              "      <th></th>\n",
              "      <th></th>\n",
              "      <th></th>\n",
              "      <th></th>\n",
              "      <th></th>\n",
              "      <th></th>\n",
              "      <th></th>\n",
              "    </tr>\n",
              "  </thead>\n",
              "  <tbody>\n",
              "    <tr>\n",
              "      <th>10001</th>\n",
              "      <td>시네마 천국</td>\n",
              "      <td>Cinema Paradiso , 1988</td>\n",
              "      <td>2013.0</td>\n",
              "      <td>전체 관람가</td>\n",
              "      <td>드라마/멜로/로맨스</td>\n",
              "      <td>[4374, 178, 3241, 47952, 47953, 19538, 18991, ...</td>\n",
              "      <td>이탈리아,프랑스</td>\n",
              "    </tr>\n",
              "    <tr>\n",
              "      <th>10002</th>\n",
              "      <td>빽 투 더 퓨쳐</td>\n",
              "      <td>Back To The Future , 1985</td>\n",
              "      <td>2015.0</td>\n",
              "      <td>12세 관람가</td>\n",
              "      <td>SF/코미디</td>\n",
              "      <td>[1076, 4603, 917, 8637, 5104, 9986, 7470, 9987]</td>\n",
              "      <td>미국</td>\n",
              "    </tr>\n",
              "    <tr>\n",
              "      <th>10003</th>\n",
              "      <td>빽 투 더 퓨쳐 2</td>\n",
              "      <td>Back To The Future Part 2 , 1989</td>\n",
              "      <td>2015.0</td>\n",
              "      <td>12세 관람가</td>\n",
              "      <td>SF/코미디</td>\n",
              "      <td>[1076, 4603, 917, 5104, 391, 5106, 5105, 5107,...</td>\n",
              "      <td>미국</td>\n",
              "    </tr>\n",
              "    <tr>\n",
              "      <th>10004</th>\n",
              "      <td>빽 투 더 퓨쳐 3</td>\n",
              "      <td>Back To The Future Part III , 1990</td>\n",
              "      <td>1990.0</td>\n",
              "      <td>전체 관람가</td>\n",
              "      <td>서부/SF/판타지/코미디</td>\n",
              "      <td>[1076, 4603, 1031, 5104, 10001, 5984, 10002, 1...</td>\n",
              "      <td>미국</td>\n",
              "    </tr>\n",
              "    <tr>\n",
              "      <th>10005</th>\n",
              "      <td>스타워즈 에피소드 4 - 새로운 희망</td>\n",
              "      <td>Star Wars , 1977</td>\n",
              "      <td>1997.0</td>\n",
              "      <td>PG</td>\n",
              "      <td>판타지/모험/SF/액션</td>\n",
              "      <td>[1007, 535, 215, 1236, 35]</td>\n",
              "      <td>미국</td>\n",
              "    </tr>\n",
              "  </tbody>\n",
              "</table>\n",
              "</div>\n",
              "      <button class=\"colab-df-convert\" onclick=\"convertToInteractive('df-cb5fdc5a-d9c5-45d5-9302-0dc6a7f47143')\"\n",
              "              title=\"Convert this dataframe to an interactive table.\"\n",
              "              style=\"display:none;\">\n",
              "        \n",
              "  <svg xmlns=\"http://www.w3.org/2000/svg\" height=\"24px\"viewBox=\"0 0 24 24\"\n",
              "       width=\"24px\">\n",
              "    <path d=\"M0 0h24v24H0V0z\" fill=\"none\"/>\n",
              "    <path d=\"M18.56 5.44l.94 2.06.94-2.06 2.06-.94-2.06-.94-.94-2.06-.94 2.06-2.06.94zm-11 1L8.5 8.5l.94-2.06 2.06-.94-2.06-.94L8.5 2.5l-.94 2.06-2.06.94zm10 10l.94 2.06.94-2.06 2.06-.94-2.06-.94-.94-2.06-.94 2.06-2.06.94z\"/><path d=\"M17.41 7.96l-1.37-1.37c-.4-.4-.92-.59-1.43-.59-.52 0-1.04.2-1.43.59L10.3 9.45l-7.72 7.72c-.78.78-.78 2.05 0 2.83L4 21.41c.39.39.9.59 1.41.59.51 0 1.02-.2 1.41-.59l7.78-7.78 2.81-2.81c.8-.78.8-2.07 0-2.86zM5.41 20L4 18.59l7.72-7.72 1.47 1.35L5.41 20z\"/>\n",
              "  </svg>\n",
              "      </button>\n",
              "      \n",
              "  <style>\n",
              "    .colab-df-container {\n",
              "      display:flex;\n",
              "      flex-wrap:wrap;\n",
              "      gap: 12px;\n",
              "    }\n",
              "\n",
              "    .colab-df-convert {\n",
              "      background-color: #E8F0FE;\n",
              "      border: none;\n",
              "      border-radius: 50%;\n",
              "      cursor: pointer;\n",
              "      display: none;\n",
              "      fill: #1967D2;\n",
              "      height: 32px;\n",
              "      padding: 0 0 0 0;\n",
              "      width: 32px;\n",
              "    }\n",
              "\n",
              "    .colab-df-convert:hover {\n",
              "      background-color: #E2EBFA;\n",
              "      box-shadow: 0px 1px 2px rgba(60, 64, 67, 0.3), 0px 1px 3px 1px rgba(60, 64, 67, 0.15);\n",
              "      fill: #174EA6;\n",
              "    }\n",
              "\n",
              "    [theme=dark] .colab-df-convert {\n",
              "      background-color: #3B4455;\n",
              "      fill: #D2E3FC;\n",
              "    }\n",
              "\n",
              "    [theme=dark] .colab-df-convert:hover {\n",
              "      background-color: #434B5C;\n",
              "      box-shadow: 0px 1px 3px 1px rgba(0, 0, 0, 0.15);\n",
              "      filter: drop-shadow(0px 1px 2px rgba(0, 0, 0, 0.3));\n",
              "      fill: #FFFFFF;\n",
              "    }\n",
              "  </style>\n",
              "\n",
              "      <script>\n",
              "        const buttonEl =\n",
              "          document.querySelector('#df-cb5fdc5a-d9c5-45d5-9302-0dc6a7f47143 button.colab-df-convert');\n",
              "        buttonEl.style.display =\n",
              "          google.colab.kernel.accessAllowed ? 'block' : 'none';\n",
              "\n",
              "        async function convertToInteractive(key) {\n",
              "          const element = document.querySelector('#df-cb5fdc5a-d9c5-45d5-9302-0dc6a7f47143');\n",
              "          const dataTable =\n",
              "            await google.colab.kernel.invokeFunction('convertToInteractive',\n",
              "                                                     [key], {});\n",
              "          if (!dataTable) return;\n",
              "\n",
              "          const docLinkHtml = 'Like what you see? Visit the ' +\n",
              "            '<a target=\"_blank\" href=https://colab.research.google.com/notebooks/data_table.ipynb>data table notebook</a>'\n",
              "            + ' to learn more about interactive tables.';\n",
              "          element.innerHTML = '';\n",
              "          dataTable['output_type'] = 'display_data';\n",
              "          await google.colab.output.renderOutput(dataTable, element);\n",
              "          const docLink = document.createElement('div');\n",
              "          docLink.innerHTML = docLinkHtml;\n",
              "          element.appendChild(docLink);\n",
              "        }\n",
              "      </script>\n",
              "    </div>\n",
              "  </div>\n",
              "  "
            ]
          },
          "metadata": {},
          "execution_count": 12
        }
      ]
    },
    {
      "cell_type": "markdown",
      "metadata": {
        "id": "qkIRJboJq-8j"
      },
      "source": [
        "- 논문:  user latent vector + item latent vector\n",
        "- 새롭게 생각할 수 있는 방법: user latent vector + item latent vector + etc vector (예시) meta information "
      ]
    },
    {
      "cell_type": "code",
      "metadata": {
        "id": "cSfHpEHpJpIi"
      },
      "source": [
        "# 영화 데이터의 메타 정보를 확인한다\n",
        "movieName_dict = movies_df.to_dict()['title']\n",
        "genres_dict = movies_df.to_dict()['genres']"
      ],
      "execution_count": null,
      "outputs": []
    },
    {
      "cell_type": "code",
      "metadata": {
        "id": "IvnmEfzMJpIj",
        "colab": {
          "base_uri": "https://localhost:8080/"
        },
        "outputId": "69ec319d-e80e-4b8f-bc8d-c84182fd031e"
      },
      "source": [
        "movies_df['genres']"
      ],
      "execution_count": null,
      "outputs": [
        {
          "output_type": "execute_result",
          "data": {
            "text/plain": [
              "movie\n",
              "10001       드라마/멜로/로맨스\n",
              "10002           SF/코미디\n",
              "10003           SF/코미디\n",
              "10004    서부/SF/판타지/코미디\n",
              "10005     판타지/모험/SF/액션\n",
              "             ...      \n",
              "10995              스릴러\n",
              "10996              코미디\n",
              "10997               공포\n",
              "10998    드라마/액션/모험/스릴러\n",
              "10999        SF/드라마/공포\n",
              "Name: genres, Length: 999, dtype: object"
            ]
          },
          "metadata": {},
          "execution_count": 16
        }
      ]
    },
    {
      "cell_type": "markdown",
      "metadata": {
        "id": "TygbVbUaJpIl"
      },
      "source": [
        "## Dataset Loader "
      ]
    },
    {
      "cell_type": "code",
      "metadata": {
        "id": "E3bh5SEJJpIl"
      },
      "source": [
        "class DatasetLoader:\n",
        "    def __init__(self, data_path):\n",
        "        self.train_df, val_temp_df = read_data(data_path)\n",
        "\n",
        "        self.min_rating = min(self.train_df.rate)\n",
        "        self.max_rating = self.train_df.rate.max()\n",
        "\n",
        "        self.unique_users = self.train_df.user.unique()\n",
        "        self.num_users = len(self.unique_users)\n",
        "        self.user_to_index = {original: idx for idx, original in enumerate(self.unique_users)}\n",
        "        # 0 1 0 0 0 ... 0 -> one-hot vector로 만들어주기 위함\n",
        "\n",
        "        self.unique_movies = self.train_df.movie.unique()\n",
        "        self.num_movies = len(self.unique_movies)\n",
        "        self.movie_to_index = {original: idx for idx, original in enumerate(self.unique_movies)}\n",
        "\n",
        "        self.val_df = val_temp_df[val_temp_df.user.isin(self.unique_users) & val_temp_df.movie.isin(self.unique_movies)]\n",
        "\n",
        "    def generate_trainset(self):\n",
        "        # user 0, 0, 0, 1, 2, 3, 3, -> movie: 0, 0, 0, 0, 0, 0,\n",
        "        X_train = pd.DataFrame({'user': self.train_df.user.map(self.user_to_index), \n",
        "                                'movie': self.train_df.movie.map(self.movie_to_index)})\n",
        "        y_train = self.train_df['rate'].astype(np.float32)\n",
        "\n",
        "        return X_train, y_train\n",
        "\n",
        "    def generate_valset(self):\n",
        "        X_val = pd.DataFrame({'user': self.val_df.user.map(self.user_to_index),\n",
        "                              'movie': self.val_df.movie.map(self.movie_to_index)})\n",
        "        y_val = self.val_df['rate'].astype(np.float32)\n",
        "        return X_val, y_val"
      ],
      "execution_count": null,
      "outputs": []
    },
    {
      "cell_type": "markdown",
      "metadata": {
        "id": "Ep1DLtpHJpIm"
      },
      "source": [
        "## Model Structure\n",
        "- 논문에서 제시한 모델 구조를 그대로 구현하고 영화 데이터로 실습해본다. \n",
        "- User Vector는 전체 영화 데이터에서 영화를 평가한 userid를 onehot vector로 나타낸 형태\n",
        "- Item Vector는 전체 영화 데이터에 등장하는 영화의 id를 onehot vector로 나타낸 형태\n",
        "\n"
      ]
    },
    {
      "cell_type": "code",
      "metadata": {
        "id": "1QAZm2wQJpIm"
      },
      "source": [
        "class FeedForwardEmbedNN(nn.Module):\n",
        "\n",
        "    def __init__(self, n_users, n_movies, hidden, dropouts, n_factors, embedding_dropout):\n",
        "        super().__init__()\n",
        "        self.user_emb = nn.Embedding(n_users, n_factors)  #user_emb는 latent vector을 의미한다.\n",
        "        self.movie_emb = nn.Embedding(n_movies, n_factors)  #movie_emb도 letent vector을 의미한다. \n",
        "        self.drop = nn.Dropout(embedding_dropout)  \n",
        "        self.hidden_layers = nn.Sequential(*list(self.generate_layers(n_factors*2, hidden, dropouts)))\n",
        "        self.fc = nn.Linear(hidden[-1], 1)\n",
        "\n",
        "    def generate_layers(self, n_factors, hidden, dropouts):\n",
        "        assert len(dropouts) == len(hidden)\n",
        "\n",
        "        idx = 0\n",
        "        while idx < len(hidden):\n",
        "            if idx == 0:\n",
        "                yield nn.Linear(n_factors, hidden[idx])\n",
        "            else:\n",
        "                yield nn.Linear(hidden[idx-1], hidden[idx])\n",
        "            yield nn.ReLU()\n",
        "            yield nn.Dropout(dropouts[idx])\n",
        "\n",
        "            idx += 1\n",
        "\n",
        "    def forward(self, users, movies, min_rating=0.5, max_rating=5):\n",
        "        concat_features = torch.cat([self.user_emb(users), self.movie_emb(movies)], dim=1)\n",
        "        x = F.relu(self.hidden_layers(concat_features))\n",
        "        # 0과 1사이의 숫자로 나타낸다\n",
        "        out = torch.sigmoid(self.fc(x))\n",
        "        # rating으로 변환한다\n",
        "        out = (out * (max_rating - min_rating)) + min_rating\n",
        "\n",
        "        return out\n",
        "\n",
        "    def predict(self, users, movies):\n",
        "        # return the score\n",
        "        output_scores = self.forward(users, movies)\n",
        "        return output_scores"
      ],
      "execution_count": null,
      "outputs": []
    },
    {
      "cell_type": "code",
      "metadata": {
        "id": "bmy6566FJpIn"
      },
      "source": [
        "class BatchIterator:\n",
        "\n",
        "    def __init__(self, X, y, batch_size=32, shuffle=True):\n",
        "        X, y = np.asarray(X), np.asarray(y)\n",
        "\n",
        "        if shuffle:\n",
        "            index = np.random.permutation(X.shape[0])\n",
        "            X, y = X[index], y[index]\n",
        "\n",
        "        self.X = X\n",
        "        self.y = y\n",
        "        self.batch_size = batch_size\n",
        "        self.shuffle = shuffle\n",
        "        self.n_batches = int(math.ceil(X.shape[0] // batch_size))\n",
        "        self._current = 0\n",
        "\n",
        "    def __iter__(self):\n",
        "        return self\n",
        "\n",
        "    def __next__(self):\n",
        "        return self.next()\n",
        "\n",
        "    def next(self):\n",
        "        if self._current >= self.n_batches:\n",
        "            raise StopIteration()\n",
        "        k = self._current\n",
        "        self._current += 1\n",
        "        bs = self.batch_size\n",
        "        return self.X[k * bs:(k + 1) * bs], self.y[k * bs:(k + 1) * bs]\n"
      ],
      "execution_count": null,
      "outputs": []
    },
    {
      "cell_type": "code",
      "metadata": {
        "id": "qbiX6uwuJpIn"
      },
      "source": [
        "def batches(X, y, bs=32, shuffle=True):\n",
        "    for x_batch, y_batch in BatchIterator(X, y, bs, shuffle):\n",
        "        x_batch = torch.LongTensor(x_batch)\n",
        "        y_batch = torch.FloatTensor(y_batch)\n",
        "        yield x_batch, y_batch.view(-1, 1)"
      ],
      "execution_count": null,
      "outputs": []
    },
    {
      "cell_type": "markdown",
      "metadata": {
        "id": "7R6I8wWjJpIn"
      },
      "source": [
        "## Train model\n",
        "데이터셋과 모델 학습에 필요한 configuration을 입력하고, 학습을 하는 함수를 만든다\n",
        "configuration을 바꾸면서 모델의 성능을 측정해볼 수 있다. "
      ]
    },
    {
      "cell_type": "code",
      "metadata": {
        "id": "6stv_nRnJpIo"
      },
      "source": [
        "def model_train(ds, config):\n",
        "    device = torch.device('cuda:0' if torch.cuda.is_available() else 'cpu')  #gpu에서 돌아가는지 cpu에서 돌아가는지 확인\n",
        "\n",
        "    X_train, y_train = ds.generate_trainset()\n",
        "    X_valid, y_valid = ds.generate_valset()\n",
        "    print(f'TrainSet Info: {ds.num_users} users, {ds.num_movies} movies')\n",
        "\n",
        "    model = FeedForwardEmbedNN(\n",
        "        n_users=ds.num_users, n_movies=ds.num_movies,\n",
        "        n_factors=config['num_factors'], hidden=config['hidden_layers'],\n",
        "        embedding_dropout=config['embedding_dropout'], dropouts=config['dropouts']\n",
        "    )\n",
        "    model.to(device)\n",
        "\n",
        "    batch_size = config['batch_size']\n",
        "    num_epochs = config['num_epochs']\n",
        "    max_patience = config['total_patience']\n",
        "    num_patience = 0\n",
        "    best_loss = np.inf\n",
        "\n",
        "    criterion = nn.MSELoss(reduction='sum')\n",
        "    criterion.to(device)\n",
        "    optimizer = optim.Adam(model.parameters(), lr=config['learning_rate'], weight_decay=config['weight_decay'])\n",
        "\n",
        "    result = dict()\n",
        "    for epoch in tqdm(range(num_epochs)):\n",
        "        training_loss = 0.0\n",
        "        for batch in batches(X_train, y_train, shuffle=True, bs=batch_size):\n",
        "            x_batch, y_batch = [b.to(device) for b in batch]\n",
        "            optimizer.zero_grad()\n",
        "            # with torch.no_grad() 와 동일한 syntax 입니다\n",
        "            with torch.set_grad_enabled(True):\n",
        "                outputs = model(x_batch[:, 0], x_batch[:, 1], ds.min_rating, ds.max_rating)\n",
        "                loss = criterion(outputs, y_batch)\n",
        "                loss.backward()\n",
        "                optimizer.step()\n",
        "            training_loss += loss.item()\n",
        "        result['train'] = training_loss / len(X_train)\n",
        "\n",
        "        # Apply Early Stopping criteria and save best model params\n",
        "        val_outputs = model(torch.LongTensor(X_valid.user.values).to(device),\n",
        "                            torch.LongTensor(X_valid.movie.values).to(device), ds.min_rating, ds.max_rating)\n",
        "        val_loss = criterion(val_outputs.to(device), torch.FloatTensor(y_valid.values).view(-1, 1).to(device))\n",
        "        result['val'] = float((val_loss / len(X_valid)).data)\n",
        "\n",
        "        if val_loss < best_loss:\n",
        "            print('Save new model on epoch: %d' % (epoch + 1))\n",
        "            best_loss = val_loss\n",
        "            result['best_loss'] = val_loss\n",
        "            torch.save(model.state_dict(), config['save_path'])\n",
        "            num_patience = 0\n",
        "        else:\n",
        "            num_patience += 1\n",
        "\n",
        "        print(f'[epoch: {epoch+1}] train: {result[\"train\"]} - val: {result[\"val\"]}')\n",
        "\n",
        "        if num_patience >= max_patience:\n",
        "            print(f\"Early Stopped after epoch {epoch+1}\")\n",
        "            break\n",
        "\n",
        "    return result"
      ],
      "execution_count": null,
      "outputs": []
    },
    {
      "cell_type": "code",
      "metadata": {
        "id": "fawHamk_JpIo"
      },
      "source": [
        "def model_valid(user_id_list, movie_id_list, data_path):\n",
        "    dataset = DatasetLoader(data_path)\n",
        "    processed_test_input_df = pd.DataFrame({\n",
        "        'user_id': [dataset.user_to_index[x] for x in user_id_list],\n",
        "        'movie_id': [dataset.movie_to_index[x] for x in movie_id_list]\n",
        "    })\n",
        "\n",
        "    # 학습한 모델 load하기 \n",
        "    my_model = FeedForwardEmbedNN(dataset.num_users, dataset.num_movies,\n",
        "                       config['hidden_layers'], config['dropouts'], config['num_factors'], config['embedding_dropout'])\n",
        "    my_model.load_state_dict(torch.load('params.data'))\n",
        "    prediction_outputs = my_model.predict(users=torch.LongTensor(processed_test_input_df.user_id.values),\n",
        "                     movies=torch.LongTensor(processed_test_input_df.movie_id.values))\n",
        "\n",
        "    return prediction_outputs"
      ],
      "execution_count": null,
      "outputs": []
    },
    {
      "cell_type": "code",
      "metadata": {
        "id": "liavZI4zJpIp"
      },
      "source": [
        "dataset = DatasetLoader(data_path)"
      ],
      "execution_count": null,
      "outputs": []
    },
    {
      "cell_type": "code",
      "metadata": {
        "id": "1xEzqD2cJpIp"
      },
      "source": [
        "config = {\n",
        "  \"num_factors\": 16,\n",
        "  \"hidden_layers\": [64, 32, 16],\n",
        "  \"embedding_dropout\": 0.05,\n",
        "  \"dropouts\": [0.3, 0.3, 0.3],\n",
        "  \"learning_rate\": 1e-3,\n",
        "  \"weight_decay\": 1e-5,\n",
        "  \"batch_size\": 8,\n",
        "  \"num_epochs\": 3,\n",
        "  \"total_patience\": 30,\n",
        "  \"save_path\": \"params.data\"\n",
        "}"
      ],
      "execution_count": null,
      "outputs": []
    },
    {
      "cell_type": "code",
      "metadata": {
        "id": "9SFyhQr-JpIp",
        "colab": {
          "base_uri": "https://localhost:8080/"
        },
        "outputId": "8b0abf13-cd59-458f-c1ce-428c5efa98ce"
      },
      "source": [
        "model_train(dataset, config)"
      ],
      "execution_count": null,
      "outputs": [
        {
          "output_type": "stream",
          "name": "stdout",
          "text": [
            "TrainSet Info: 44453 users, 597 movies\n"
          ]
        },
        {
          "output_type": "stream",
          "name": "stderr",
          "text": [
            " 33%|███▎      | 1/3 [00:34<01:08, 34.25s/it]"
          ]
        },
        {
          "output_type": "stream",
          "name": "stdout",
          "text": [
            "Save new model on epoch: 1\n",
            "[epoch: 1] train: 4.272780188624665 - val: 3.8272056579589844\n"
          ]
        },
        {
          "output_type": "stream",
          "name": "stderr",
          "text": [
            "\r 67%|██████▋   | 2/3 [01:08<00:33, 33.96s/it]"
          ]
        },
        {
          "output_type": "stream",
          "name": "stdout",
          "text": [
            "Save new model on epoch: 2\n",
            "[epoch: 2] train: 3.712509964043598 - val: 3.5792224407196045\n"
          ]
        },
        {
          "output_type": "stream",
          "name": "stderr",
          "text": [
            "100%|██████████| 3/3 [01:41<00:00, 33.94s/it]"
          ]
        },
        {
          "output_type": "stream",
          "name": "stdout",
          "text": [
            "Save new model on epoch: 3\n",
            "[epoch: 3] train: 3.3124712751503864 - val: 3.540170669555664\n"
          ]
        },
        {
          "output_type": "stream",
          "name": "stderr",
          "text": [
            "\n"
          ]
        },
        {
          "output_type": "execute_result",
          "data": {
            "text/plain": [
              "{'best_loss': tensor(71709.6953, device='cuda:0', grad_fn=<MseLossBackward0>),\n",
              " 'train': 3.3124712751503864,\n",
              " 'val': 3.540170669555664}"
            ]
          },
          "metadata": {},
          "execution_count": 24
        }
      ]
    },
    {
      "cell_type": "code",
      "metadata": {
        "id": "66PToOALWUZB",
        "colab": {
          "base_uri": "https://localhost:8080/",
          "height": 206
        },
        "outputId": "6e4cf5a3-c0fd-46c8-f26c-87ce9e5f194a"
      },
      "source": [
        "val_df.head()"
      ],
      "execution_count": null,
      "outputs": [
        {
          "output_type": "execute_result",
          "data": {
            "text/plain": [
              "         user  movie  rate        time\n",
              "76196   11242  10253    10  1437788760\n",
              "109800  26903  10102    10  1322643900\n",
              "60479    7101  10007     1  1314804000\n",
              "71460    9705  10016    10  1228825200\n",
              "73864   10616  10106     8  1425046200"
            ],
            "text/html": [
              "\n",
              "  <div id=\"df-d5dc1a30-004e-47f5-b64b-7509184b4527\">\n",
              "    <div class=\"colab-df-container\">\n",
              "      <div>\n",
              "<style scoped>\n",
              "    .dataframe tbody tr th:only-of-type {\n",
              "        vertical-align: middle;\n",
              "    }\n",
              "\n",
              "    .dataframe tbody tr th {\n",
              "        vertical-align: top;\n",
              "    }\n",
              "\n",
              "    .dataframe thead th {\n",
              "        text-align: right;\n",
              "    }\n",
              "</style>\n",
              "<table border=\"1\" class=\"dataframe\">\n",
              "  <thead>\n",
              "    <tr style=\"text-align: right;\">\n",
              "      <th></th>\n",
              "      <th>user</th>\n",
              "      <th>movie</th>\n",
              "      <th>rate</th>\n",
              "      <th>time</th>\n",
              "    </tr>\n",
              "  </thead>\n",
              "  <tbody>\n",
              "    <tr>\n",
              "      <th>76196</th>\n",
              "      <td>11242</td>\n",
              "      <td>10253</td>\n",
              "      <td>10</td>\n",
              "      <td>1437788760</td>\n",
              "    </tr>\n",
              "    <tr>\n",
              "      <th>109800</th>\n",
              "      <td>26903</td>\n",
              "      <td>10102</td>\n",
              "      <td>10</td>\n",
              "      <td>1322643900</td>\n",
              "    </tr>\n",
              "    <tr>\n",
              "      <th>60479</th>\n",
              "      <td>7101</td>\n",
              "      <td>10007</td>\n",
              "      <td>1</td>\n",
              "      <td>1314804000</td>\n",
              "    </tr>\n",
              "    <tr>\n",
              "      <th>71460</th>\n",
              "      <td>9705</td>\n",
              "      <td>10016</td>\n",
              "      <td>10</td>\n",
              "      <td>1228825200</td>\n",
              "    </tr>\n",
              "    <tr>\n",
              "      <th>73864</th>\n",
              "      <td>10616</td>\n",
              "      <td>10106</td>\n",
              "      <td>8</td>\n",
              "      <td>1425046200</td>\n",
              "    </tr>\n",
              "  </tbody>\n",
              "</table>\n",
              "</div>\n",
              "      <button class=\"colab-df-convert\" onclick=\"convertToInteractive('df-d5dc1a30-004e-47f5-b64b-7509184b4527')\"\n",
              "              title=\"Convert this dataframe to an interactive table.\"\n",
              "              style=\"display:none;\">\n",
              "        \n",
              "  <svg xmlns=\"http://www.w3.org/2000/svg\" height=\"24px\"viewBox=\"0 0 24 24\"\n",
              "       width=\"24px\">\n",
              "    <path d=\"M0 0h24v24H0V0z\" fill=\"none\"/>\n",
              "    <path d=\"M18.56 5.44l.94 2.06.94-2.06 2.06-.94-2.06-.94-.94-2.06-.94 2.06-2.06.94zm-11 1L8.5 8.5l.94-2.06 2.06-.94-2.06-.94L8.5 2.5l-.94 2.06-2.06.94zm10 10l.94 2.06.94-2.06 2.06-.94-2.06-.94-.94-2.06-.94 2.06-2.06.94z\"/><path d=\"M17.41 7.96l-1.37-1.37c-.4-.4-.92-.59-1.43-.59-.52 0-1.04.2-1.43.59L10.3 9.45l-7.72 7.72c-.78.78-.78 2.05 0 2.83L4 21.41c.39.39.9.59 1.41.59.51 0 1.02-.2 1.41-.59l7.78-7.78 2.81-2.81c.8-.78.8-2.07 0-2.86zM5.41 20L4 18.59l7.72-7.72 1.47 1.35L5.41 20z\"/>\n",
              "  </svg>\n",
              "      </button>\n",
              "      \n",
              "  <style>\n",
              "    .colab-df-container {\n",
              "      display:flex;\n",
              "      flex-wrap:wrap;\n",
              "      gap: 12px;\n",
              "    }\n",
              "\n",
              "    .colab-df-convert {\n",
              "      background-color: #E8F0FE;\n",
              "      border: none;\n",
              "      border-radius: 50%;\n",
              "      cursor: pointer;\n",
              "      display: none;\n",
              "      fill: #1967D2;\n",
              "      height: 32px;\n",
              "      padding: 0 0 0 0;\n",
              "      width: 32px;\n",
              "    }\n",
              "\n",
              "    .colab-df-convert:hover {\n",
              "      background-color: #E2EBFA;\n",
              "      box-shadow: 0px 1px 2px rgba(60, 64, 67, 0.3), 0px 1px 3px 1px rgba(60, 64, 67, 0.15);\n",
              "      fill: #174EA6;\n",
              "    }\n",
              "\n",
              "    [theme=dark] .colab-df-convert {\n",
              "      background-color: #3B4455;\n",
              "      fill: #D2E3FC;\n",
              "    }\n",
              "\n",
              "    [theme=dark] .colab-df-convert:hover {\n",
              "      background-color: #434B5C;\n",
              "      box-shadow: 0px 1px 3px 1px rgba(0, 0, 0, 0.15);\n",
              "      filter: drop-shadow(0px 1px 2px rgba(0, 0, 0, 0.3));\n",
              "      fill: #FFFFFF;\n",
              "    }\n",
              "  </style>\n",
              "\n",
              "      <script>\n",
              "        const buttonEl =\n",
              "          document.querySelector('#df-d5dc1a30-004e-47f5-b64b-7509184b4527 button.colab-df-convert');\n",
              "        buttonEl.style.display =\n",
              "          google.colab.kernel.accessAllowed ? 'block' : 'none';\n",
              "\n",
              "        async function convertToInteractive(key) {\n",
              "          const element = document.querySelector('#df-d5dc1a30-004e-47f5-b64b-7509184b4527');\n",
              "          const dataTable =\n",
              "            await google.colab.kernel.invokeFunction('convertToInteractive',\n",
              "                                                     [key], {});\n",
              "          if (!dataTable) return;\n",
              "\n",
              "          const docLinkHtml = 'Like what you see? Visit the ' +\n",
              "            '<a target=\"_blank\" href=https://colab.research.google.com/notebooks/data_table.ipynb>data table notebook</a>'\n",
              "            + ' to learn more about interactive tables.';\n",
              "          element.innerHTML = '';\n",
              "          dataTable['output_type'] = 'display_data';\n",
              "          await google.colab.output.renderOutput(dataTable, element);\n",
              "          const docLink = document.createElement('div');\n",
              "          docLink.innerHTML = docLinkHtml;\n",
              "          element.appendChild(docLink);\n",
              "        }\n",
              "      </script>\n",
              "    </div>\n",
              "  </div>\n",
              "  "
            ]
          },
          "metadata": {},
          "execution_count": 25
        }
      ]
    },
    {
      "cell_type": "code",
      "metadata": {
        "id": "ukvOFg52JpIq",
        "colab": {
          "base_uri": "https://localhost:8080/",
          "height": 143
        },
        "outputId": "eb72ecb6-4bbf-4c87-8228-fe3b796b3092"
      },
      "source": [
        "movie_id_list = [10253, 10102, 10007]\n",
        "user_id = 11242\n",
        "user_id_list = [user_id] * len(movie_id_list)\n",
        "pred_results = [float(x) for x in model_valid(user_id_list, movie_id_list, data_path)]\n",
        "\n",
        "result_df = pd.DataFrame({\n",
        "    'userId': user_id_list,\n",
        "    'movieId': movie_id_list,\n",
        "    # 'movieName': [movieName_dict[x] for x in movie_id_list],\n",
        "    # 'genres': [genres_dict[x] for x in movie_id_list],\n",
        "    'pred_ratings': pred_results\n",
        "})\n",
        "\n",
        "result_df.sort_values(by='pred_ratings', ascending=False)"
      ],
      "execution_count": null,
      "outputs": [
        {
          "output_type": "execute_result",
          "data": {
            "text/plain": [
              "   userId  movieId  pred_ratings\n",
              "2   11242    10007      4.937978\n",
              "0   11242    10253      4.856257\n",
              "1   11242    10102      4.823686"
            ],
            "text/html": [
              "\n",
              "  <div id=\"df-3f2f7493-5434-4260-b1b1-9356746500f8\">\n",
              "    <div class=\"colab-df-container\">\n",
              "      <div>\n",
              "<style scoped>\n",
              "    .dataframe tbody tr th:only-of-type {\n",
              "        vertical-align: middle;\n",
              "    }\n",
              "\n",
              "    .dataframe tbody tr th {\n",
              "        vertical-align: top;\n",
              "    }\n",
              "\n",
              "    .dataframe thead th {\n",
              "        text-align: right;\n",
              "    }\n",
              "</style>\n",
              "<table border=\"1\" class=\"dataframe\">\n",
              "  <thead>\n",
              "    <tr style=\"text-align: right;\">\n",
              "      <th></th>\n",
              "      <th>userId</th>\n",
              "      <th>movieId</th>\n",
              "      <th>pred_ratings</th>\n",
              "    </tr>\n",
              "  </thead>\n",
              "  <tbody>\n",
              "    <tr>\n",
              "      <th>2</th>\n",
              "      <td>11242</td>\n",
              "      <td>10007</td>\n",
              "      <td>4.937978</td>\n",
              "    </tr>\n",
              "    <tr>\n",
              "      <th>0</th>\n",
              "      <td>11242</td>\n",
              "      <td>10253</td>\n",
              "      <td>4.856257</td>\n",
              "    </tr>\n",
              "    <tr>\n",
              "      <th>1</th>\n",
              "      <td>11242</td>\n",
              "      <td>10102</td>\n",
              "      <td>4.823686</td>\n",
              "    </tr>\n",
              "  </tbody>\n",
              "</table>\n",
              "</div>\n",
              "      <button class=\"colab-df-convert\" onclick=\"convertToInteractive('df-3f2f7493-5434-4260-b1b1-9356746500f8')\"\n",
              "              title=\"Convert this dataframe to an interactive table.\"\n",
              "              style=\"display:none;\">\n",
              "        \n",
              "  <svg xmlns=\"http://www.w3.org/2000/svg\" height=\"24px\"viewBox=\"0 0 24 24\"\n",
              "       width=\"24px\">\n",
              "    <path d=\"M0 0h24v24H0V0z\" fill=\"none\"/>\n",
              "    <path d=\"M18.56 5.44l.94 2.06.94-2.06 2.06-.94-2.06-.94-.94-2.06-.94 2.06-2.06.94zm-11 1L8.5 8.5l.94-2.06 2.06-.94-2.06-.94L8.5 2.5l-.94 2.06-2.06.94zm10 10l.94 2.06.94-2.06 2.06-.94-2.06-.94-.94-2.06-.94 2.06-2.06.94z\"/><path d=\"M17.41 7.96l-1.37-1.37c-.4-.4-.92-.59-1.43-.59-.52 0-1.04.2-1.43.59L10.3 9.45l-7.72 7.72c-.78.78-.78 2.05 0 2.83L4 21.41c.39.39.9.59 1.41.59.51 0 1.02-.2 1.41-.59l7.78-7.78 2.81-2.81c.8-.78.8-2.07 0-2.86zM5.41 20L4 18.59l7.72-7.72 1.47 1.35L5.41 20z\"/>\n",
              "  </svg>\n",
              "      </button>\n",
              "      \n",
              "  <style>\n",
              "    .colab-df-container {\n",
              "      display:flex;\n",
              "      flex-wrap:wrap;\n",
              "      gap: 12px;\n",
              "    }\n",
              "\n",
              "    .colab-df-convert {\n",
              "      background-color: #E8F0FE;\n",
              "      border: none;\n",
              "      border-radius: 50%;\n",
              "      cursor: pointer;\n",
              "      display: none;\n",
              "      fill: #1967D2;\n",
              "      height: 32px;\n",
              "      padding: 0 0 0 0;\n",
              "      width: 32px;\n",
              "    }\n",
              "\n",
              "    .colab-df-convert:hover {\n",
              "      background-color: #E2EBFA;\n",
              "      box-shadow: 0px 1px 2px rgba(60, 64, 67, 0.3), 0px 1px 3px 1px rgba(60, 64, 67, 0.15);\n",
              "      fill: #174EA6;\n",
              "    }\n",
              "\n",
              "    [theme=dark] .colab-df-convert {\n",
              "      background-color: #3B4455;\n",
              "      fill: #D2E3FC;\n",
              "    }\n",
              "\n",
              "    [theme=dark] .colab-df-convert:hover {\n",
              "      background-color: #434B5C;\n",
              "      box-shadow: 0px 1px 3px 1px rgba(0, 0, 0, 0.15);\n",
              "      filter: drop-shadow(0px 1px 2px rgba(0, 0, 0, 0.3));\n",
              "      fill: #FFFFFF;\n",
              "    }\n",
              "  </style>\n",
              "\n",
              "      <script>\n",
              "        const buttonEl =\n",
              "          document.querySelector('#df-3f2f7493-5434-4260-b1b1-9356746500f8 button.colab-df-convert');\n",
              "        buttonEl.style.display =\n",
              "          google.colab.kernel.accessAllowed ? 'block' : 'none';\n",
              "\n",
              "        async function convertToInteractive(key) {\n",
              "          const element = document.querySelector('#df-3f2f7493-5434-4260-b1b1-9356746500f8');\n",
              "          const dataTable =\n",
              "            await google.colab.kernel.invokeFunction('convertToInteractive',\n",
              "                                                     [key], {});\n",
              "          if (!dataTable) return;\n",
              "\n",
              "          const docLinkHtml = 'Like what you see? Visit the ' +\n",
              "            '<a target=\"_blank\" href=https://colab.research.google.com/notebooks/data_table.ipynb>data table notebook</a>'\n",
              "            + ' to learn more about interactive tables.';\n",
              "          element.innerHTML = '';\n",
              "          dataTable['output_type'] = 'display_data';\n",
              "          await google.colab.output.renderOutput(dataTable, element);\n",
              "          const docLink = document.createElement('div');\n",
              "          docLink.innerHTML = docLinkHtml;\n",
              "          element.appendChild(docLink);\n",
              "        }\n",
              "      </script>\n",
              "    </div>\n",
              "  </div>\n",
              "  "
            ]
          },
          "metadata": {},
          "execution_count": 27
        }
      ]
    },
    {
      "cell_type": "code",
      "metadata": {
        "id": "_bZZOMwCvvUL"
      },
      "source": [
        ""
      ],
      "execution_count": null,
      "outputs": []
    }
  ]
}
